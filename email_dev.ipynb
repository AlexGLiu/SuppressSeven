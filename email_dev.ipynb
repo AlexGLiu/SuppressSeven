{
 "cells": [
  {
   "cell_type": "code",
   "execution_count": 1,
   "metadata": {},
   "outputs": [],
   "source": [
    "import smtplib\n",
    "import base64\n",
    "from email.mime.text import MIMEText\n",
    "from email.header import Header\n",
    "from email.mime.multipart import MIMEMultipart\n",
    "from email.mime.image import MIMEImage\n",
    "from email.utils import COMMASPACE\n",
    "\n",
    "SENDER = 'alex.test.use0328@gmail.com'\n",
    "SMTP_SERVER = 'smtp.gmail.com'\n",
    "USER_ACCOUNT = {'username':'alex.test.use0328@gmail.com', 'password':'3Guoyanyi@'}\n",
    "SUBJECT = \"Test Test\"\n",
    "\n",
    "\n",
    "def send_mail(receivers, text, sender=SENDER, user_account=USER_ACCOUNT, subject=SUBJECT):\n",
    "    msg_root = MIMEMultipart()  # 创建一个带附件的实例\n",
    "    msg_root['Subject'] = subject  # 邮件主题\n",
    "    msg_root['To'] = COMMASPACE.join(receivers)  # 接收者\n",
    "    text = convert_to_html(text)\n",
    "    msg_text = MIMEText(text, 'html', 'utf-8')  # 邮件正文\n",
    "    msg_root.attach(msg_text)  # attach邮件正文内容\n",
    "    smtp = smtplib.SMTP('smtp.gmail.com:587')\n",
    "    smtp.ehlo()\n",
    "    smtp.starttls()\n",
    "    smtp.login(user_account['username'], user_account['password'])\n",
    "    smtp.sendmail(sender, receivers, msg_root.as_string())\n",
    "\n",
    "def convert_to_html(text):\n",
    "    html_text = text.replace('\\n', '<br>')\n",
    "    html = f\"\"\"\\\n",
    "            <html>\n",
    "              <head></head>\n",
    "              <body>\n",
    "                <p>\n",
    "                {html_text}\n",
    "                </p>\n",
    "              </body>\n",
    "            </html>\n",
    "            \"\"\"\n",
    "    return html"
   ]
  },
  {
   "cell_type": "code",
   "execution_count": 2,
   "metadata": {},
   "outputs": [],
   "source": [
    "send_mail(['liugy0328@gmail.com'], \"Test Test\")"
   ]
  },
  {
   "cell_type": "code",
   "execution_count": 5,
   "metadata": {},
   "outputs": [
    {
     "name": "stdout",
     "output_type": "stream",
     "text": [
      "asdfasdfasdf\n",
      "asdfasdfasdfas\n",
      "asdfasdfasdf\n",
      "\n"
     ]
    }
   ],
   "source": [
    "print(\"asdfasdfasdf\\nasdfasdfasdfas\\nasdfasdfasdf\\n\")"
   ]
  },
  {
   "cell_type": "code",
   "execution_count": null,
   "metadata": {},
   "outputs": [],
   "source": []
  }
 ],
 "metadata": {
  "kernelspec": {
   "display_name": "Python 3",
   "language": "python",
   "name": "python3"
  },
  "language_info": {
   "codemirror_mode": {
    "name": "ipython",
    "version": 3
   },
   "file_extension": ".py",
   "mimetype": "text/x-python",
   "name": "python",
   "nbconvert_exporter": "python",
   "pygments_lexer": "ipython3",
   "version": "3.7.5"
  }
 },
 "nbformat": 4,
 "nbformat_minor": 2
}
